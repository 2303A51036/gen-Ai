{
  "nbformat": 4,
  "nbformat_minor": 0,
  "metadata": {
    "colab": {
      "provenance": [],
      "authorship_tag": "ABX9TyOJbvrx/BzT9Ta9t7mvvMBG",
      "include_colab_link": true
    },
    "kernelspec": {
      "name": "python3",
      "display_name": "Python 3"
    },
    "language_info": {
      "name": "python"
    }
  },
  "cells": [
    {
      "cell_type": "markdown",
      "metadata": {
        "id": "view-in-github",
        "colab_type": "text"
      },
      "source": [
        "<a href=\"https://colab.research.google.com/github/2303A51036/gen-Ai/blob/main/Gen_AI_Assign_1_(2412).ipynb\" target=\"_parent\"><img src=\"https://colab.research.google.com/assets/colab-badge.svg\" alt=\"Open In Colab\"/></a>"
      ]
    },
    {
      "cell_type": "code",
      "execution_count": 2,
      "metadata": {
        "colab": {
          "base_uri": "https://localhost:8080/"
        },
        "id": "vTBiKVl9SVQ5",
        "outputId": "323232dc-2c50-4826-b01c-1fa07c48c682"
      },
      "outputs": [
        {
          "output_type": "stream",
          "name": "stdout",
          "text": [
            "Manual Calculation Results:\n",
            "Mean Absolute Error (MAE): 0.4600000000000016\n",
            "Mean Squared Error (MSE): 0.24600000000000147\n",
            "Root Mean Squared Error (RMSE): 0.49598387070549127\n"
          ]
        }
      ],
      "source": [
        "Y_actual = [20, 30, 40, 50, 60]\n",
        "Y_pred = [20.5, 30.3, 40.2, 50.6, 60.7]\n",
        "def calculate_mae(y_actual, y_pred):\n",
        "    error_sum = 0\n",
        "    for actual, pred in zip(y_actual, y_pred):\n",
        "        error_sum += abs(actual - pred)\n",
        "    mae = error_sum / len(y_actual)\n",
        "    return mae\n",
        "def calculate_mse(y_actual, y_pred):\n",
        "    error_sum = 0\n",
        "    for actual, pred in zip(y_actual, y_pred):\n",
        "        error_sum += (actual - pred) ** 2\n",
        "    mse = error_sum / len(y_actual)\n",
        "    return mse\n",
        "def calculate_rmse(y_actual, y_pred):\n",
        "    mse = calculate_mse(y_actual, y_pred)\n",
        "    rmse = mse ** 0.5\n",
        "    return rmse\n",
        "mae = calculate_mae(Y_actual, Y_pred)\n",
        "mse = calculate_mse(Y_actual, Y_pred)\n",
        "rmse = calculate_rmse(Y_actual, Y_pred)\n",
        "print(\"Manual Calculation Results:\")\n",
        "print(f\"Mean Absolute Error (MAE): {mae}\")\n",
        "print(f\"Mean Squared Error (MSE): {mse}\")\n",
        "print(f\"Root Mean Squared Error (RMSE): {rmse}\")"
      ]
    }
  ]
}