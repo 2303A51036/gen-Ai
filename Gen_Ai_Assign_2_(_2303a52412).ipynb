{
  "nbformat": 4,
  "nbformat_minor": 0,
  "metadata": {
    "colab": {
      "provenance": [],
      "authorship_tag": "ABX9TyOSaHsE/n40or2Gb/AI8z5Y",
      "include_colab_link": true
    },
    "kernelspec": {
      "name": "python3",
      "display_name": "Python 3"
    },
    "language_info": {
      "name": "python"
    }
  },
  "cells": [
    {
      "cell_type": "markdown",
      "metadata": {
        "id": "view-in-github",
        "colab_type": "text"
      },
      "source": [
        "<a href=\"https://colab.research.google.com/github/2303A51036/gen-Ai/blob/main/Gen_Ai_Assign_2_(_2303a52412).ipynb\" target=\"_parent\"><img src=\"https://colab.research.google.com/assets/colab-badge.svg\" alt=\"Open In Colab\"/></a>"
      ]
    },
    {
      "cell_type": "markdown",
      "source": [
        "1st solution"
      ],
      "metadata": {
        "id": "GBS4CE5_WzsD"
      }
    },
    {
      "cell_type": "code",
      "execution_count": 7,
      "metadata": {
        "id": "19eHv0XwNAge"
      },
      "outputs": [],
      "source": [
        "from scipy.optimize import linprog\n"
      ]
    },
    {
      "cell_type": "code",
      "source": [
        "# Coefficients of the objective function (negative for maximization)\n",
        "c = [-120, -50]"
      ],
      "metadata": {
        "id": "DMJG5Y_HURS2"
      },
      "execution_count": 8,
      "outputs": []
    },
    {
      "cell_type": "code",
      "source": [
        "A = [\n",
        "    [1, 1],\n",
        "    [7000, 2000],\n",
        "    [10, 30]\n",
        "]"
      ],
      "metadata": {
        "id": "EZSFMi-4UgpH"
      },
      "execution_count": 9,
      "outputs": []
    },
    {
      "cell_type": "code",
      "source": [
        "b = [110, 700000, 1200]"
      ],
      "metadata": {
        "id": "NVUn-e8xUmd0"
      },
      "execution_count": 10,
      "outputs": []
    },
    {
      "cell_type": "code",
      "source": [
        "x_bounds = (0, None)\n",
        "bounds = [x_bounds, x_bounds]"
      ],
      "metadata": {
        "id": "4LbeVrdCUqPA"
      },
      "execution_count": 11,
      "outputs": []
    },
    {
      "cell_type": "code",
      "source": [
        "result = linprog(c, A_ub=A, b_ub=b, bounds=bounds, method='highs')\n"
      ],
      "metadata": {
        "id": "Bhjs-3AeUzUV"
      },
      "execution_count": 12,
      "outputs": []
    },
    {
      "cell_type": "code",
      "source": [
        "if result.success:\n",
        "    print(\"Optimal Solution Found!\")\n",
        "    print(f\"Area allocated to Wheat (x1): {result.x[0]:.2f} hectares\")\n",
        "    print(f\"Area allocated to Barley (x2): {result.x[1]:.2f} hectares\")\n",
        "    print(f\"Maximum Profit: Rs. {-result.fun:.2f}\")\n",
        "else:\n",
        "    print(\"No optimal solution found.\")"
      ],
      "metadata": {
        "colab": {
          "base_uri": "https://localhost:8080/"
        },
        "id": "R71v3xNdUz_0",
        "outputId": "22f8d187-8920-4b47-e495-081ca9d36d83"
      },
      "execution_count": 13,
      "outputs": [
        {
          "output_type": "stream",
          "name": "stdout",
          "text": [
            "Optimal Solution Found!\n",
            "Area allocated to Wheat (x1): 97.89 hectares\n",
            "Area allocated to Barley (x2): 7.37 hectares\n",
            "Maximum Profit: Rs. 12115.79\n"
          ]
        }
      ]
    },
    {
      "cell_type": "markdown",
      "source": [
        "2nd solution"
      ],
      "metadata": {
        "id": "sDUo0N2VVdBq"
      }
    },
    {
      "cell_type": "code",
      "source": [
        "from scipy.optimize import linprog\n"
      ],
      "metadata": {
        "id": "8ynLExQjVhM3"
      },
      "execution_count": 14,
      "outputs": []
    },
    {
      "cell_type": "code",
      "source": [
        "# Coefficients of the objective function (negative for maximization)\n",
        "c = [-6, -5]\n"
      ],
      "metadata": {
        "id": "sbDo-BxPVtiX"
      },
      "execution_count": 15,
      "outputs": []
    },
    {
      "cell_type": "code",
      "source": [
        "# Coefficients of inequality constraints (LHS)\n",
        "A = [\n",
        "    [1, 1],\n",
        "    [3, 2]\n",
        "]\n"
      ],
      "metadata": {
        "id": "_He39u4QV0Io"
      },
      "execution_count": 16,
      "outputs": []
    },
    {
      "cell_type": "code",
      "source": [
        "# Right-hand side of inequality constraints\n",
        "b = [5, 12]\n"
      ],
      "metadata": {
        "id": "hC88GqEmV89n"
      },
      "execution_count": 17,
      "outputs": []
    },
    {
      "cell_type": "code",
      "source": [
        "# Bounds for variables (non-negativity)\n",
        "x0_bounds = (0, None)  # A >= 0\n",
        "x1_bounds = (0, None)  # B >= 0\n"
      ],
      "metadata": {
        "id": "-ECGufDYWAah"
      },
      "execution_count": 18,
      "outputs": []
    },
    {
      "cell_type": "code",
      "source": [
        "# Solve the linear programming problem\n",
        "result = linprog(c, A_ub=A, b_ub=b, bounds=[x0_bounds, x1_bounds], method='highs')\n",
        "\n"
      ],
      "metadata": {
        "id": "-JgWwCUnWhW_"
      },
      "execution_count": 19,
      "outputs": []
    },
    {
      "cell_type": "code",
      "source": [
        "# Extract results\n",
        "if result.success:\n",
        "    print(f\"Optimal solution found:\")\n",
        "    print(f\"Units of A to produce: {result.x[0]:.2f}\")\n",
        "    print(f\"Units of B to produce: {result.x[1]:.2f}\")\n",
        "    print(f\"Maximum profit: Rs {-result.fun:.2f}\")\n",
        "else:\n",
        "    print(\"No optimal solution found.\")"
      ],
      "metadata": {
        "colab": {
          "base_uri": "https://localhost:8080/"
        },
        "id": "hO2RmCJ5WjFi",
        "outputId": "c1392b14-b718-4214-ed52-f34b409a9624"
      },
      "execution_count": 20,
      "outputs": [
        {
          "output_type": "stream",
          "name": "stdout",
          "text": [
            "Optimal solution found:\n",
            "Units of A to produce: 2.00\n",
            "Units of B to produce: 3.00\n",
            "Maximum profit: Rs 27.00\n"
          ]
        }
      ]
    }
  ]
}